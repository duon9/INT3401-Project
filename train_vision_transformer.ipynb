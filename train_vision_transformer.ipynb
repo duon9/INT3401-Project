{
 "cells": [
  {
   "cell_type": "code",
   "execution_count": null,
   "id": "986cbe3a",
   "metadata": {},
   "outputs": [],
   "source": [
    "from models.lenet import LeNet\n",
    "from models.resnet import build_deep_resnet\n",
    "from models.visiontransformer import VisionTransformer\n",
    "from scripts.data_split import split_by_year\n",
    "import optuna\n",
    "import tensorflow as tf\n",
    "from tensorflow.keras import layers, models\n",
    "from tensorflow import keras\n",
    "from tensorflow.keras.callbacks import EarlyStopping, LearningRateScheduler, ReduceLROnPlateau\n",
    "from tensorflow.keras.optimizers import Adam, AdamW\n",
    "from tensorflow.keras import metrics\n",
    "from sklearn.metrics import confusion_matrix\n",
    "import seaborn as sns\n",
    "import matplotlib.pyplot as plt\n",
    "from sklearn.metrics import classification_report"
   ]
  },
  {
   "cell_type": "code",
   "execution_count": null,
   "id": "ce00f1ec",
   "metadata": {},
   "outputs": [],
   "source": [
    "data = np.load('data.npy')\n",
    "df = pd.read_csv('metadata.csv')\n"
   ]
  },
  {
   "cell_type": "code",
   "execution_count": null,
   "id": "e6bc6844",
   "metadata": {},
   "outputs": [],
   "source": [
    "res = split_by_year(df, data)\n",
    "X_train, df_train = res['train']\n",
    "X_test, df_test = res['test']\n",
    "X_val, df_val = res['val']\n",
    "y_train = df_train['labels']\n",
    "y_test = df_test['labels']\n",
    "y_val = df_val['labels']"
   ]
  },
  {
   "cell_type": "code",
   "execution_count": null,
   "id": "d9428b0f",
   "metadata": {},
   "outputs": [],
   "source": [
    "early_stopping = EarlyStopping(\n",
    "    monitor='val_loss',     \n",
    "    patience=20,            \n",
    "    restore_best_weights=True\n",
    ")"
   ]
  },
  {
   "cell_type": "code",
   "execution_count": null,
   "id": "4667b8b1",
   "metadata": {},
   "outputs": [],
   "source": [
    "INPUT_SHAPE = (33, 33, 8)"
   ]
  },
  {
   "cell_type": "code",
   "execution_count": null,
   "id": "28ca0fbc",
   "metadata": {},
   "outputs": [],
   "source": [
    "def objective(trial):\n",
    "    initial_lr = trial.suggest_float(\"initial_lr\", 1e-4, 1e-2, log=True)\n",
    "    decay_steps = trial.suggest_int(\"decay_steps\", 5000, 30000, step=5000)\n",
    "    alpha = trial.suggest_float(\"alpha\", 0.0, 0.2)\n",
    "    batch_size = trial.suggest_categorical(\"batch_size\", [16,32,64])\n",
    "    weight_decay = trial.suggest_float(\"weight_decay\", 1e-5, 1e-2, log=True)\n",
    "    lr_schedule = keras.optimizers.schedules.CosineDecay(\n",
    "        initial_learning_rate=initial_lr,\n",
    "        decay_steps=decay_steps,\n",
    "        alpha=alpha\n",
    "    )\n",
    "\n",
    "    optimizer = keras.optimizers.Adam(learning_rate=lr_schedule, weight_decay=weight_decay)\n",
    "\n",
    "    vit = VisionTransformer()\n",
    "    model = vit.build_model()\n",
    "\n",
    "    model.compile(\n",
    "        optimizer=keras.optimizers.Adam(learning_rate=lr_schedule),\n",
    "        loss='binary_crossentropy',\n",
    "        metrics=['accuracy',\n",
    "                ])\n",
    "    history = model.fit(\n",
    "        X_train, y_train,\n",
    "        validation_data=(X_val, y_val),\n",
    "        epochs=1000,\n",
    "        class_weight=class_weights,\n",
    "        batch_size=batch_size,\n",
    "        callbacks=[early_stopping]\n",
    "    )\n",
    "    class_names = ['0', '1']\n",
    "    loss, acc = model.evaluate(X_test, y_test)\n",
    "    print(f\"Test Accuracy: {acc:.4f}\")\n",
    "\n",
    "    preds = model.predict(X_test)\n",
    "    preds = (preds > 0.5).astype(int)\n",
    "    print(classification_report(y_test, preds, target_names=class_names))\n",
    "    return acc"
   ]
  }
 ],
 "metadata": {
  "language_info": {
   "name": "python"
  }
 },
 "nbformat": 4,
 "nbformat_minor": 5
}
