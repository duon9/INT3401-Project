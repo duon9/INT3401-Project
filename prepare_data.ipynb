{
 "cells": [
  {
   "cell_type": "code",
   "execution_count": null,
   "id": "81060a1a",
   "metadata": {},
   "outputs": [],
   "source": [
    "from scripts.metadata_extraction import create_metadata\n",
    "from scripts.data_extraction import create_batch_from_folder\n",
    "from scripts.data_interpolation import fill_nan_with_mean_per_sample_channel\n",
    "import pandas as pd\n",
    "import os\n",
    "import numpy as np"
   ]
  },
  {
   "cell_type": "code",
   "execution_count": null,
   "id": "c6bffd08",
   "metadata": {},
   "outputs": [],
   "source": [
    "folder1 = \"YOUR_PATH_TO_PASTDOMAIN_FOLDER\"\n",
    "folder2 = \"YOUR_PATH_TO_POSITIVE_FOLDER\""
   ]
  },
  {
   "cell_type": "code",
   "execution_count": null,
   "id": "91bce8ea",
   "metadata": {},
   "outputs": [],
   "source": [
    "df1 = create_metadata(folder1)"
   ]
  },
  {
   "cell_type": "code",
   "execution_count": null,
   "id": "fddead36",
   "metadata": {},
   "outputs": [],
   "source": [
    "df2 = create_metadata(folder2)"
   ]
  },
  {
   "cell_type": "code",
   "execution_count": null,
   "id": "f3f75e33",
   "metadata": {},
   "outputs": [],
   "source": [
    "df = pd.concat([df1, df2], axis=0)"
   ]
  },
  {
   "cell_type": "code",
   "execution_count": null,
   "id": "608a8b82",
   "metadata": {},
   "outputs": [],
   "source": [
    "df.to_csv(\"metadata.csv\", index = False)"
   ]
  },
  {
   "cell_type": "code",
   "execution_count": 1,
   "id": "bff32fd3",
   "metadata": {},
   "outputs": [],
   "source": [
    "var_pressure_list = [\n",
    "    ('T', 500),\n",
    "    ('RH', 750),\n",
    "    ('U', 200),\n",
    "    ('U', 800),\n",
    "    ('V', 200),\n",
    "    ('V', 800),\n",
    "    ('OMEGA', 500), \n",
    "    ('H', 500),\n",
    "]\n"
   ]
  },
  {
   "cell_type": "code",
   "execution_count": null,
   "id": "d15b1a8b",
   "metadata": {},
   "outputs": [],
   "source": [
    "data1 = create_batch_from_folder(folder1,\n",
    "                                 var_pressure_list)\n",
    "data2 = create_batch_from_folder(folder2,\n",
    "                                 var_pressure_list)"
   ]
  },
  {
   "cell_type": "code",
   "execution_count": null,
   "id": "f6a358af",
   "metadata": {},
   "outputs": [],
   "source": [
    "data = np.concatenate([data1, data2], axis = 0)"
   ]
  },
  {
   "cell_type": "code",
   "execution_count": null,
   "id": "5f5220aa",
   "metadata": {},
   "outputs": [],
   "source": [
    "data = fill_nan_with_mean_per_sample_channel(data)"
   ]
  },
  {
   "cell_type": "code",
   "execution_count": null,
   "id": "d7f08aa4",
   "metadata": {},
   "outputs": [],
   "source": [
    "np.save(\"clean.npy\", data)"
   ]
  },
  {
   "cell_type": "markdown",
   "id": "a0624e3a",
   "metadata": {},
   "source": []
  },
  {
   "cell_type": "code",
   "execution_count": null,
   "id": "31702347",
   "metadata": {},
   "outputs": [],
   "source": []
  }
 ],
 "metadata": {
  "kernelspec": {
   "display_name": "Python 3",
   "language": "python",
   "name": "python3"
  },
  "language_info": {
   "codemirror_mode": {
    "name": "ipython",
    "version": 3
   },
   "file_extension": ".py",
   "mimetype": "text/x-python",
   "name": "python",
   "nbconvert_exporter": "python",
   "pygments_lexer": "ipython3",
   "version": "3.12.7"
  }
 },
 "nbformat": 4,
 "nbformat_minor": 5
}
